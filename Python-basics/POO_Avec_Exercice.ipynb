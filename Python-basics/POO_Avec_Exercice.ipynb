{
  "nbformat": 4,
  "nbformat_minor": 0,
  "metadata": {
    "colab": {
      "name": "POO_Avec_Exercice.ipynb",
      "provenance": [],
      "collapsed_sections": [],
      "authorship_tag": "ABX9TyNgFzz7WzXhRmmSQS2v66jn",
      "include_colab_link": true
    },
    "kernelspec": {
      "name": "python3",
      "display_name": "Python 3"
    },
    "language_info": {
      "name": "python"
    }
  },
  "cells": [
    {
      "cell_type": "markdown",
      "metadata": {
        "id": "view-in-github",
        "colab_type": "text"
      },
      "source": [
        "<a href=\"https://colab.research.google.com/github/YounesseELH/Machine-learning-Projects/blob/main/Python-basics/POO_Avec_Exercice.ipynb\" target=\"_parent\"><img src=\"https://colab.research.google.com/assets/colab-badge.svg\" alt=\"Open In Colab\"/></a>"
      ]
    },
    {
      "cell_type": "code",
      "execution_count": 189,
      "metadata": {
        "id": "dvNc42dZ6vzV"
      },
      "outputs": [],
      "source": [
        "class Personne():\n",
        "  def __init__(self,nom,prenom,filliere):\n",
        "    self.nom = nom\n",
        "    self.prenom = prenom\n",
        "    self.filliere = filliere\n",
        "  \n",
        "  def Afficher_info(self):\n",
        "    print('Nom : ',self.nom)\n",
        "    print('Prenom : ',self.prenom)\n",
        "    print('Filliere : ',self.filliere)\n",
        "\n"
      ]
    },
    {
      "cell_type": "code",
      "source": [
        "P = Personne('YOUNESSE','ELH','GINF')"
      ],
      "metadata": {
        "id": "PcJp8FzU8Hld"
      },
      "execution_count": 190,
      "outputs": []
    },
    {
      "cell_type": "code",
      "source": [
        "P.Afficher_info()"
      ],
      "metadata": {
        "colab": {
          "base_uri": "https://localhost:8080/"
        },
        "id": "NflJ9mFd8fms",
        "outputId": "7a9c20f9-23a3-4054-eceb-0e98e9d26daa"
      },
      "execution_count": 191,
      "outputs": [
        {
          "output_type": "stream",
          "name": "stdout",
          "text": [
            "Nom :  YOUNESSE\n",
            "Prenom :  ELH\n",
            "Filliere :  GINF\n"
          ]
        }
      ]
    },
    {
      "cell_type": "code",
      "source": [
        "P.nom"
      ],
      "metadata": {
        "colab": {
          "base_uri": "https://localhost:8080/",
          "height": 35
        },
        "id": "M1EKy7ZW8vyH",
        "outputId": "f7e69afd-f78f-4430-a73f-8363f24e5b45"
      },
      "execution_count": 192,
      "outputs": [
        {
          "output_type": "execute_result",
          "data": {
            "text/plain": [
              "'YOUNESSE'"
            ],
            "application/vnd.google.colaboratory.intrinsic+json": {
              "type": "string"
            }
          },
          "metadata": {},
          "execution_count": 192
        }
      ]
    },
    {
      "cell_type": "markdown",
      "source": [
        "# **Héritage**"
      ],
      "metadata": {
        "id": "LW9Uy_zn89ef"
      }
    },
    {
      "cell_type": "code",
      "source": [
        "class Etudiant(Personne):\n",
        "  def __init__(self,nom,prenom,filliere,ville):\n",
        "    super().__init__(nom,prenom,filliere)\n",
        "    self.ville = ville\n",
        "  \n",
        "  def Afficher_info(self):\n",
        "    super().Afficher_info()\n",
        "    print('Ville : ',self.ville)"
      ],
      "metadata": {
        "id": "JSee_jf-9Mut"
      },
      "execution_count": 193,
      "outputs": []
    },
    {
      "cell_type": "code",
      "source": [
        "p2 = Etudiant('YOUNESSE','ELH','GINF','TANGER')"
      ],
      "metadata": {
        "id": "oJA2B3Qw-bMj"
      },
      "execution_count": 194,
      "outputs": []
    },
    {
      "cell_type": "code",
      "source": [
        "p2.Afficher_info()"
      ],
      "metadata": {
        "colab": {
          "base_uri": "https://localhost:8080/"
        },
        "id": "RDWM4Q9L-jG5",
        "outputId": "139a6c54-d3ab-4517-ff96-1c3df2718083"
      },
      "execution_count": 195,
      "outputs": [
        {
          "output_type": "stream",
          "name": "stdout",
          "text": [
            "Nom :  YOUNESSE\n",
            "Prenom :  ELH\n",
            "Filliere :  GINF\n",
            "Ville :  TANGER\n"
          ]
        }
      ]
    },
    {
      "cell_type": "markdown",
      "source": [
        "# **Example : système de banque**\n"
      ],
      "metadata": {
        "id": "LwZBoG82_DYx"
      }
    },
    {
      "cell_type": "code",
      "source": [
        "class client():\n",
        "  def __init__(self,nom,prenom,age,cin):\n",
        "    self.nom = nom\n",
        "    self.prenom = prenom\n",
        "    self.age = age\n",
        "    self.cin = cin\n",
        "  \n",
        "  def Afficher_info_client(self):\n",
        "    print('===============')\n",
        "    print('Information de client :')\n",
        "    print('===============')\n",
        "    print('Nom :',self.nom)\n",
        "    print('Prenom : ',self.prenom)\n",
        "    print('Age : ',self.age)\n",
        "    print('CIN : ',self.cin)\n",
        "    \n"
      ],
      "metadata": {
        "id": "k-EnBl3N_Un0"
      },
      "execution_count": 196,
      "outputs": []
    },
    {
      "cell_type": "code",
      "source": [
        "class compte():\n",
        "  numCompte=0\n",
        "  def __init__(self,client,solde):\n",
        "    self.client = client\n",
        "    self.solde = solde\n",
        "    self.numCompte +=1\n",
        "    self.id = self.numCompte\n",
        "\n",
        "  def Crediter(self,solde):\n",
        "    if solde>0:\n",
        "      self.solde+=solde\n",
        "      return True\n",
        "    else:\n",
        "       print(\"Le solde doit etre positive\")\n",
        "       return False\n",
        "\n",
        "  def Debiter(self,solde):\n",
        "    if self.solde-solde>=0:\n",
        "      self.solde-=solde\n",
        "      return True\n",
        "    else:\n",
        "      print(\"Le solde n'est pas suffisant\")\n",
        "      return False\n",
        "\n",
        "  def Afficher_info_compte(self):\n",
        "    self.client.Afficher_info_client()\n",
        "    print('Numero de compte : ',self.id)\n",
        "    print('Solde : ',self.solde)\n",
        "\n",
        "\n",
        "\n",
        "  "
      ],
      "metadata": {
        "id": "88I2mJ7GGeV3"
      },
      "execution_count": 197,
      "outputs": []
    },
    {
      "cell_type": "code",
      "source": [
        "C1 = client('Ali','ALJ',18,'JU987')"
      ],
      "metadata": {
        "id": "FXnupzkbLiW9"
      },
      "execution_count": 198,
      "outputs": []
    },
    {
      "cell_type": "code",
      "source": [
        "C1.Afficher_info_client()"
      ],
      "metadata": {
        "colab": {
          "base_uri": "https://localhost:8080/"
        },
        "id": "wZ4V4BhGL4GJ",
        "outputId": "63af9550-7a2c-4ade-fb26-209412d864c6"
      },
      "execution_count": 199,
      "outputs": [
        {
          "output_type": "stream",
          "name": "stdout",
          "text": [
            "===============\n",
            "Information de client :\n",
            "===============\n",
            "Nom : Ali\n",
            "Prenom :  ALJ\n",
            "Age :  18\n",
            "CIN :  JU987\n"
          ]
        }
      ]
    },
    {
      "cell_type": "code",
      "source": [
        "N1 = compte(C1,3000)"
      ],
      "metadata": {
        "id": "GTVALmU-L8Hg"
      },
      "execution_count": 200,
      "outputs": []
    },
    {
      "cell_type": "code",
      "source": [
        "N1.Afficher_info_compte()"
      ],
      "metadata": {
        "colab": {
          "base_uri": "https://localhost:8080/"
        },
        "id": "NDX5CO0EMEyZ",
        "outputId": "7a0cb10c-7a6d-42f4-c8ef-20f6a52b66ca"
      },
      "execution_count": 201,
      "outputs": [
        {
          "output_type": "stream",
          "name": "stdout",
          "text": [
            "===============\n",
            "Information de client :\n",
            "===============\n",
            "Nom : Ali\n",
            "Prenom :  ALJ\n",
            "Age :  18\n",
            "CIN :  JU987\n",
            "Numero de compte :  1\n",
            "Solde :  3000\n"
          ]
        }
      ]
    },
    {
      "cell_type": "code",
      "source": [
        "class banque():\n",
        "  liste_compte = []\n",
        "  \n",
        "  def __init__(self):\n",
        "    pass\n",
        "\n",
        "  def Ajouter_compte(self,Compte):\n",
        "    if self.Compte_Existe(Compte.id) == None:\n",
        "      self.liste_compte.append(Compte)\n",
        "  \n",
        "  def Supprimer_compte(self,Compte):\n",
        "    if self.Compte_Existe(Compte.id) != None:\n",
        "      self.liste_compte.remove(self.Compte_Existe(Compte.id))\n",
        "\n",
        "  def Compte_Existe(self,num):\n",
        "    for l in self.liste_compte:\n",
        "      if l.id == num :\n",
        "        return l\n",
        "    return None\n",
        "  \n",
        "  def Afficher_les_compte(self):\n",
        "    for l in self.liste_compte:\n",
        "      print(l.Afficher_info_compte())\n",
        "      print(\"===============\")\n"
      ],
      "metadata": {
        "id": "tziDNPK_MMIe"
      },
      "execution_count": 202,
      "outputs": []
    },
    {
      "cell_type": "code",
      "source": [
        "B = banque()"
      ],
      "metadata": {
        "id": "UbuO0R2jPe80"
      },
      "execution_count": 203,
      "outputs": []
    },
    {
      "cell_type": "code",
      "source": [
        "B.Ajouter_compte(N1)"
      ],
      "metadata": {
        "id": "5jDmpim5PzIV"
      },
      "execution_count": 204,
      "outputs": []
    },
    {
      "cell_type": "code",
      "source": [
        "B.Afficher_les_compte()"
      ],
      "metadata": {
        "colab": {
          "base_uri": "https://localhost:8080/"
        },
        "id": "GSlZ0Bf_QLTa",
        "outputId": "0e014a41-0f87-49a2-c790-7e79bd07ed48"
      },
      "execution_count": 206,
      "outputs": [
        {
          "output_type": "stream",
          "name": "stdout",
          "text": [
            "===============\n",
            "Information de client :\n",
            "===============\n",
            "Nom : Ali\n",
            "Prenom :  ALJ\n",
            "Age :  18\n",
            "CIN :  JU987\n",
            "Numero de compte :  1\n",
            "Solde :  3000\n",
            "None\n",
            "===============\n"
          ]
        }
      ]
    }
  ]
}